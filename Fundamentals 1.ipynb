{
 "cells": [
  {
   "cell_type": "markdown",
   "id": "4736af0a",
   "metadata": {},
   "source": [
    "# Fundamental Python \n",
    "\n",
    "## Numbers"
   ]
  },
  {
   "cell_type": "code",
   "execution_count": 1,
   "id": "f5506419",
   "metadata": {},
   "outputs": [
    {
     "name": "stdout",
     "output_type": "stream",
     "text": [
      "<class 'int'>\n"
     ]
    }
   ],
   "source": [
    "# Prints \"<class 'int'>\" print(x) # Prints \"3\"\n",
    "x=3\n",
    "print(type(x)) "
   ]
  },
  {
   "cell_type": "code",
   "execution_count": 2,
   "id": "48c40f2e",
   "metadata": {},
   "outputs": [
    {
     "name": "stdout",
     "output_type": "stream",
     "text": [
      "4\n"
     ]
    }
   ],
   "source": [
    "# Addition\n",
    "print(x + 1) "
   ]
  },
  {
   "cell_type": "code",
   "execution_count": 3,
   "id": "38aff9d3",
   "metadata": {},
   "outputs": [
    {
     "name": "stdout",
     "output_type": "stream",
     "text": [
      "2\n"
     ]
    }
   ],
   "source": [
    "# Subtraction\n",
    "print(x - 1)"
   ]
  },
  {
   "cell_type": "code",
   "execution_count": 4,
   "id": "73091ae4",
   "metadata": {},
   "outputs": [
    {
     "name": "stdout",
     "output_type": "stream",
     "text": [
      "6\n"
     ]
    }
   ],
   "source": [
    "# Multiplication\n",
    "print(x * 2)"
   ]
  },
  {
   "cell_type": "code",
   "execution_count": 5,
   "id": "5c6b855b",
   "metadata": {},
   "outputs": [
    {
     "name": "stdout",
     "output_type": "stream",
     "text": [
      "9\n"
     ]
    }
   ],
   "source": [
    "# Exponentiation\n",
    "print(x ** 2)"
   ]
  },
  {
   "cell_type": "code",
   "execution_count": 6,
   "id": "06ebf9e1",
   "metadata": {},
   "outputs": [
    {
     "name": "stdout",
     "output_type": "stream",
     "text": [
      "4\n"
     ]
    }
   ],
   "source": [
    "x += 1\n",
    "print(x)"
   ]
  },
  {
   "cell_type": "code",
   "execution_count": 7,
   "id": "4e0f6e8d",
   "metadata": {},
   "outputs": [
    {
     "name": "stdout",
     "output_type": "stream",
     "text": [
      "8\n"
     ]
    }
   ],
   "source": [
    "x *= 2\n",
    "print(x)"
   ]
  },
  {
   "cell_type": "code",
   "execution_count": 8,
   "id": "051b3f44",
   "metadata": {},
   "outputs": [
    {
     "name": "stdout",
     "output_type": "stream",
     "text": [
      "<class 'float'>\n"
     ]
    }
   ],
   "source": [
    "# Prints \"<class 'float'>\"\n",
    "y = 2.5\n",
    "print(type(y)) "
   ]
  },
  {
   "cell_type": "code",
   "execution_count": 9,
   "id": "a5b63d45",
   "metadata": {},
   "outputs": [
    {
     "name": "stdout",
     "output_type": "stream",
     "text": [
      "2.5 3.5 5.0 6.25\n"
     ]
    }
   ],
   "source": [
    "print(y, y + 1, y * 2, y ** 2)"
   ]
  },
  {
   "cell_type": "markdown",
   "id": "8e3525b4",
   "metadata": {},
   "source": [
    "## Boolean"
   ]
  },
  {
   "cell_type": "code",
   "execution_count": 10,
   "id": "d54be6a1",
   "metadata": {},
   "outputs": [
    {
     "name": "stdout",
     "output_type": "stream",
     "text": [
      "<class 'bool'>\n"
     ]
    }
   ],
   "source": [
    "t = True \n",
    "f = False\n",
    "\n",
    "print(type(t))"
   ]
  },
  {
   "cell_type": "code",
   "execution_count": 11,
   "id": "a3c6cb96",
   "metadata": {},
   "outputs": [
    {
     "name": "stdout",
     "output_type": "stream",
     "text": [
      "False\n"
     ]
    }
   ],
   "source": [
    "# Logical AND\n",
    "print(t and f)"
   ]
  },
  {
   "cell_type": "code",
   "execution_count": 12,
   "id": "29e5a3bb",
   "metadata": {},
   "outputs": [
    {
     "name": "stdout",
     "output_type": "stream",
     "text": [
      "True\n"
     ]
    }
   ],
   "source": [
    "# Logical OR\n",
    "print(t or f)"
   ]
  },
  {
   "cell_type": "code",
   "execution_count": 13,
   "id": "86f2e988",
   "metadata": {},
   "outputs": [
    {
     "name": "stdout",
     "output_type": "stream",
     "text": [
      "False\n"
     ]
    }
   ],
   "source": [
    "# Logical NOT\n",
    "print(not t)"
   ]
  },
  {
   "cell_type": "code",
   "execution_count": 14,
   "id": "652767b5",
   "metadata": {},
   "outputs": [
    {
     "name": "stdout",
     "output_type": "stream",
     "text": [
      "True\n"
     ]
    }
   ],
   "source": [
    "# Logical XOR\n",
    "print(t != f)"
   ]
  },
  {
   "cell_type": "markdown",
   "id": "bcb8cbed",
   "metadata": {},
   "source": [
    "## Strings"
   ]
  },
  {
   "cell_type": "code",
   "execution_count": 15,
   "id": "da3769bc",
   "metadata": {},
   "outputs": [
    {
     "name": "stdout",
     "output_type": "stream",
     "text": [
      "hello\n"
     ]
    }
   ],
   "source": [
    "# String literals can use single quotes or double quotes; it does not matter. \n",
    "hello = 'hello' \n",
    "world = \"world\"\n",
    "\n",
    "print(hello) # Prints \"hello\""
   ]
  },
  {
   "cell_type": "code",
   "execution_count": 16,
   "id": "71b1853d",
   "metadata": {},
   "outputs": [
    {
     "name": "stdout",
     "output_type": "stream",
     "text": [
      "5\n"
     ]
    }
   ],
   "source": [
    "print(len(hello)) # String length; prints \"5\""
   ]
  },
  {
   "cell_type": "code",
   "execution_count": 17,
   "id": "412c3523",
   "metadata": {},
   "outputs": [
    {
     "name": "stdout",
     "output_type": "stream",
     "text": [
      "hello world\n"
     ]
    }
   ],
   "source": [
    "hw = hello + ' ' + world # String concatenation \n",
    "print(hw) # prints \"hello world\""
   ]
  },
  {
   "cell_type": "code",
   "execution_count": 18,
   "id": "d665d385",
   "metadata": {},
   "outputs": [
    {
     "name": "stdout",
     "output_type": "stream",
     "text": [
      "hello world 12\n"
     ]
    }
   ],
   "source": [
    "hw12 = '%s %s %d' % (hello, world, 12) # sprintf style string formatting \n",
    "print(hw12) # prints \"hello world 12\""
   ]
  },
  {
   "cell_type": "code",
   "execution_count": 19,
   "id": "301f7198",
   "metadata": {},
   "outputs": [
    {
     "name": "stdout",
     "output_type": "stream",
     "text": [
      "Hello\n"
     ]
    }
   ],
   "source": [
    "s = \"hello\"\n",
    "print(s.capitalize()) # Capitalize a string; prints \"Hello\""
   ]
  },
  {
   "cell_type": "code",
   "execution_count": 20,
   "id": "e3c01daa",
   "metadata": {},
   "outputs": [
    {
     "name": "stdout",
     "output_type": "stream",
     "text": [
      "HELLO\n"
     ]
    }
   ],
   "source": [
    "print(s.upper()) # Convert a string to uppercase; prints \"HELLO\""
   ]
  },
  {
   "cell_type": "code",
   "execution_count": 21,
   "id": "c563300d",
   "metadata": {},
   "outputs": [
    {
     "name": "stdout",
     "output_type": "stream",
     "text": [
      "  hello\n"
     ]
    }
   ],
   "source": [
    "print(s.rjust(7)) # Right-justify a string, padding with spaces; prints \" hello\""
   ]
  },
  {
   "cell_type": "code",
   "execution_count": 22,
   "id": "b336558b",
   "metadata": {},
   "outputs": [
    {
     "name": "stdout",
     "output_type": "stream",
     "text": [
      " hello \n"
     ]
    }
   ],
   "source": [
    "print(s.center(7)) # Center a string, padding with spaces; prints \" hello \""
   ]
  },
  {
   "cell_type": "code",
   "execution_count": 23,
   "id": "b595871d",
   "metadata": {},
   "outputs": [
    {
     "name": "stdout",
     "output_type": "stream",
     "text": [
      "he(ell)(ell)o\n"
     ]
    }
   ],
   "source": [
    "print(s.replace('l', '(ell)')) # Replace all instances of one substring with another;\n",
    "# prints \"he(ell)(ell)o\""
   ]
  },
  {
   "cell_type": "code",
   "execution_count": 24,
   "id": "91d7e719",
   "metadata": {},
   "outputs": [
    {
     "name": "stdout",
     "output_type": "stream",
     "text": [
      "world\n"
     ]
    }
   ],
   "source": [
    "print(' world '.strip()) # Strip leading and trailing whitespace; prints \"world\""
   ]
  }
 ],
 "metadata": {
  "kernelspec": {
   "display_name": "Python 3 (ipykernel)",
   "language": "python",
   "name": "python3"
  },
  "language_info": {
   "codemirror_mode": {
    "name": "ipython",
    "version": 3
   },
   "file_extension": ".py",
   "mimetype": "text/x-python",
   "name": "python",
   "nbconvert_exporter": "python",
   "pygments_lexer": "ipython3",
   "version": "3.8.8"
  }
 },
 "nbformat": 4,
 "nbformat_minor": 5
}
